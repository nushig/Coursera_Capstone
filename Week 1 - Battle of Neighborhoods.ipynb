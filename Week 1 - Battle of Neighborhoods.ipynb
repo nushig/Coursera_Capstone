{
    "nbformat_minor": 1, 
    "cells": [
        {
            "source": "# <font color=red> Battle of Neighborhoods Capstone Assignment </\n***", 
            "cell_type": "markdown", 
            "metadata": {
                "collapsed": true
            }
        }, 
        {
            "source": "## <font color=blue>  Week 1 - Introduction & Background </font>", 
            "cell_type": "markdown", 
            "metadata": {}
        }, 
        {
            "source": "### Background and Problem Description\nFoursquare is a localized seareh engine which provides results to users based on location input. It operates on large datasets of specific co-ordinates relating to various venues. Foursquare powers many other mobile applications like Apple Maps, Uber, Snapchat etc.\n\nConsequently, we will be utilizing Foursquare to determine the neighborhood in Manhattan, NY that has the leat amount of venues listed on Foursquare. The result will be useful for people looking to live in the city area, but desire a quieter lifestyle. \nAdditionally, this may also be usefull for individuals who want to open a business with the least amount of competitors. ", 
            "cell_type": "markdown", 
            "metadata": {}
        }, 
        {
            "source": "### Data Discription and Problem Solving\nSimilar to the previous lab, location data on Manhattan's neighborhoods will be imported into the notebook.\nThe neighborhoods' location data will be processed, cleaned and clustered for further use. After the location data is sufficiently prepared, we will parse the data through Foursquare's API and record the amount pf venues each neighborhood returns.\nThe neighborhood with the least amount of venues will provide the solution to our question. \nFor further insight, the neighborhoods will be sorted in descending order of amount of venues if for some reason the neighborhood with the least amount of venues is not sufficient for the stakeholder's use.", 
            "cell_type": "markdown", 
            "metadata": {}
        }, 
        {
            "execution_count": null, 
            "cell_type": "code", 
            "metadata": {}, 
            "outputs": [], 
            "source": ""
        }
    ], 
    "metadata": {
        "kernelspec": {
            "display_name": "Python 3.5", 
            "name": "python3", 
            "language": "python"
        }, 
        "language_info": {
            "mimetype": "text/x-python", 
            "nbconvert_exporter": "python", 
            "version": "3.5.5", 
            "name": "python", 
            "file_extension": ".py", 
            "pygments_lexer": "ipython3", 
            "codemirror_mode": {
                "version": 3, 
                "name": "ipython"
            }
        }
    }, 
    "nbformat": 4
}